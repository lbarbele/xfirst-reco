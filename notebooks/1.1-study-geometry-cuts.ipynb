{
 "cells": [
  {
   "cell_type": "code",
   "execution_count": 1,
   "metadata": {},
   "outputs": [
    {
     "name": "stdout",
     "output_type": "stream",
     "text": [
      "Welcome to JupyROOT 6.28/04\n"
     ]
    }
   ],
   "source": [
    "import itertools\n",
    "\n",
    "import numpy as np\n",
    "import pandas as pd\n",
    "\n",
    "from xfirst.atmosphere import us_standard"
   ]
  },
  {
   "cell_type": "code",
   "execution_count": 2,
   "metadata": {},
   "outputs": [],
   "source": [
    "atm = us_standard()"
   ]
  },
  {
   "attachments": {},
   "cell_type": "markdown",
   "metadata": {},
   "source": [
    "### Cut due to the zenith angle\n",
    "\n",
    "The zenith angle of a shower will impact the amount of atmosphere it traverses both until it enters the field of view of a telescope and also the mass overburden at ground. While the maximum height a telescope can observe will depend on the distance to the shower core, the minimum height is always the ground. As for the Pierre Auger Observatory, we define the ground altitude as $h_\\mathrm{gr} = 1400$ m."
   ]
  },
  {
   "cell_type": "code",
   "execution_count": 3,
   "metadata": {},
   "outputs": [],
   "source": [
    "ground_altitude_km = 1.400 # km"
   ]
  },
  {
   "attachments": {},
   "cell_type": "markdown",
   "metadata": {},
   "source": [
    "The corresponding mass overburden at ground ($T_\\mathrm{gr}$) is:"
   ]
  },
  {
   "cell_type": "code",
   "execution_count": 4,
   "metadata": {},
   "outputs": [
    {
     "data": {
      "text/plain": [
       "875.5011058303304"
      ]
     },
     "execution_count": 4,
     "metadata": {},
     "output_type": "execute_result"
    }
   ],
   "source": [
    "ground_mass_overburden = atm.get_depth(ground_altitude_km)\n",
    "ground_mass_overburden"
   ]
  },
  {
   "attachments": {},
   "cell_type": "markdown",
   "metadata": {},
   "source": [
    "For a given zenith angle $\\theta$, then, the amount of mass a shower has traversed can be computed by, assuming a linear atmosphere approximation,\n",
    "\n",
    "$$ T_\\mathrm{max} = \\frac{T_\\mathrm{gr}(h_\\mathrm{gr})}{\\cos\\theta} \\:. $$\n",
    "\n",
    "This expression is implemented by the `get_ground_depth` function below."
   ]
  },
  {
   "cell_type": "code",
   "execution_count": 5,
   "metadata": {},
   "outputs": [],
   "source": [
    "def get_ground_depth(theta_shower_rad):\n",
    "  vertical_depth = atm.get_depth(ground_altitude_km)\n",
    "  return vertical_depth/np.cos(theta_shower_rad)"
   ]
  },
  {
   "attachments": {},
   "cell_type": "markdown",
   "metadata": {},
   "source": [
    "Taking the representative zenith angles of 30º, 45º, and 60º we get the following slant depths at the impact point."
   ]
  },
  {
   "cell_type": "code",
   "execution_count": 6,
   "metadata": {},
   "outputs": [
    {
     "name": "stdout",
     "output_type": "stream",
     "text": [
      " angle  slant depth\n",
      " 30.0º  1011 g/cm²\n",
      " 45.0º  1238 g/cm²\n",
      " 60.0º  1751 g/cm²\n"
     ]
    }
   ],
   "source": [
    "theta_range_deg = [30., 45., 60.]\n",
    "\n",
    "print(f' angle  slant depth')\n",
    "\n",
    "for theta_deg in theta_range_deg:\n",
    "  theta_rad = np.radians(theta_deg)\n",
    "  slant_depth = get_ground_depth(theta_rad)\n",
    "  print(f'{theta_deg:5}º  {slant_depth:.0f} g/cm²')"
   ]
  },
  {
   "attachments": {},
   "cell_type": "markdown",
   "metadata": {},
   "source": [
    "### Cut due to core distance\n",
    "\n",
    "The core distance, on the other hand, determines the maximum height in the atmosphere a telescope can observe. Assume the shower direction specified by the angles $\\theta_\\mathrm{sh}$ and $\\varphi_\\mathrm{sh}$, where $\\theta_\\mathrm{sh}$ is measured with respect to the vertical and $\\varphi_\\mathrm{sh} = 180º$ means the shower is coming towards the telescope. Then, if the telescope has a vertical field of view of $\\theta_\\mathrm{fov}$, the maximum altitude a telescope will observe as a function of the distance to the shower core position $r_\\mathrm{core}$ is given by\n",
    "\n",
    "$$h_\\mathrm{fov} = r_\\mathrm{core} \\times \\frac{\\sin\\theta_\\mathrm{fov}\\sin\\theta_\\mathrm{sh}}{\\cos\\theta_\\mathrm{fov}\\cos\\theta_\\mathrm{sh} + \\sin\\theta_\\mathrm{fov}\\sin\\theta_\\mathrm{sh}\\cos\\varphi_\\mathrm{sh}} \\: .$$\n",
    "\n",
    "In Auger, the telescope field of view is of 30º."
   ]
  },
  {
   "cell_type": "code",
   "execution_count": 7,
   "metadata": {},
   "outputs": [],
   "source": [
    "telescope_fov_deg = 30\n",
    "telescope_fov_rad = np.radians(telescope_fov_deg)"
   ]
  },
  {
   "attachments": {},
   "cell_type": "markdown",
   "metadata": {},
   "source": [
    "The $h_\\mathrm{fov}$ can be computed using the `get_fov_height` function below."
   ]
  },
  {
   "cell_type": "code",
   "execution_count": 8,
   "metadata": {},
   "outputs": [],
   "source": [
    "def get_fov_height(r_core_km, theta_shower_rad, theta_phi_rad):\n",
    "  sf = np.sin(telescope_fov_rad)\n",
    "  cf = np.cos(telescope_fov_rad)\n",
    "  ss = np.sin(theta_shower_rad)\n",
    "  cs = np.cos(theta_shower_rad)\n",
    "  den = cf*cs + sf*ss*np.cos(theta_phi_rad)\n",
    "  return np.inf if (np.abs(den) < 1e-10) else r_core_km*sf*cs/den"
   ]
  },
  {
   "attachments": {},
   "cell_type": "markdown",
   "metadata": {},
   "source": [
    "The value of $h_\\mathrm{fov}$ can be converted into a minimum observable slant depth both as a function of the shower direction and distance to shower core using\n",
    "\n",
    "$$ T_\\mathrm{min} = \\frac{T(h_\\mathrm{fov} + h_\\mathrm{gr})}{\\cos\\theta_\\mathrm{sh}} \\: , $$\n",
    "\n",
    "where $T(h)$ is the vertical mass overburden as a function of the altitude $h$ above sea level. This expression is implemented in the function below."
   ]
  },
  {
   "cell_type": "code",
   "execution_count": 9,
   "metadata": {},
   "outputs": [],
   "source": [
    "def get_fov_depth(r_core_km, theta_shower_rad, theta_phi_rad):\n",
    "  height = ground_altitude_km + get_fov_height(r_core_km, theta_shower_rad, theta_phi_rad)\n",
    "  vertical_depth = atm.get_depth(height)\n",
    "  slant_depth = vertical_depth/np.cos(theta_shower_rad)\n",
    "  return slant_depth"
   ]
  },
  {
   "attachments": {},
   "cell_type": "markdown",
   "metadata": {},
   "source": [
    "Take the represetative core ranges of 5 km, 10 km, and 20 km and assume the shower has an azimuth angle of 135º."
   ]
  },
  {
   "cell_type": "code",
   "execution_count": 10,
   "metadata": {},
   "outputs": [],
   "source": [
    "core_range_km = [5., 10., 20.]\n",
    "\n",
    "shower_phi_deg = 135\n",
    "shower_phi_rad = np.radians(shower_phi_deg)"
   ]
  },
  {
   "attachments": {},
   "cell_type": "markdown",
   "metadata": {},
   "source": [
    "Then we can compute the ranges of slant depths observed by a telescope for different values of $\\theta_\\mathrm{sh}$ and $r_\\mathrm{core}$."
   ]
  },
  {
   "cell_type": "code",
   "execution_count": 11,
   "metadata": {},
   "outputs": [
    {
     "name": "stdout",
     "output_type": "stream",
     "text": [
      "\n",
      "\n",
      "\n"
     ]
    }
   ],
   "source": [
    "def round(value, precision = 50):\n",
    "  return precision*(int(value)//precision) + precision*int(np.rint((int(value)%precision)/precision))\n",
    "\n",
    "# print('theta distance min_depth max_depth')\n",
    "\n",
    "data = []\n",
    "\n",
    "for theta_deg in theta_range_deg:\n",
    "  theta_rad = np.radians(theta_deg)\n",
    "  max_depth = get_ground_depth(theta_rad)\n",
    "\n",
    "  print()\n",
    "\n",
    "  for r_core_km in core_range_km:\n",
    "    min_depth = get_fov_depth(r_core_km, theta_rad, shower_phi_rad)\n",
    "    a = round(min_depth, 50)\n",
    "    b = round(max_depth, 50)\n",
    "    # print(f'{int(theta_deg):>4}º {r_core_km:>8.1f} {round(min_depth, 50):9} {round(max_depth, 50):9}')\n",
    "\n",
    "    data.append((theta_deg, r_core_km, a, b))"
   ]
  },
  {
   "attachments": {},
   "cell_type": "markdown",
   "metadata": {},
   "source": [
    "### Final selection"
   ]
  },
  {
   "cell_type": "code",
   "execution_count": 12,
   "metadata": {},
   "outputs": [
    {
     "data": {
      "text/html": [
       "<div>\n",
       "<style scoped>\n",
       "    .dataframe tbody tr th:only-of-type {\n",
       "        vertical-align: middle;\n",
       "    }\n",
       "\n",
       "    .dataframe tbody tr th {\n",
       "        vertical-align: top;\n",
       "    }\n",
       "\n",
       "    .dataframe thead th {\n",
       "        text-align: right;\n",
       "    }\n",
       "</style>\n",
       "<table border=\"1\" class=\"dataframe\">\n",
       "  <thead>\n",
       "    <tr style=\"text-align: right;\">\n",
       "      <th></th>\n",
       "      <th>theta_deg</th>\n",
       "      <th>r_core_km</th>\n",
       "      <th>min_depth</th>\n",
       "      <th>max_depth</th>\n",
       "    </tr>\n",
       "    <tr>\n",
       "      <th>cut name</th>\n",
       "      <th></th>\n",
       "      <th></th>\n",
       "      <th></th>\n",
       "      <th></th>\n",
       "    </tr>\n",
       "  </thead>\n",
       "  <tbody>\n",
       "    <tr>\n",
       "      <th>A1</th>\n",
       "      <td>30.0</td>\n",
       "      <td>5.0</td>\n",
       "      <td>600</td>\n",
       "      <td>1000</td>\n",
       "    </tr>\n",
       "    <tr>\n",
       "      <th>A2</th>\n",
       "      <td>30.0</td>\n",
       "      <td>10.0</td>\n",
       "      <td>350</td>\n",
       "      <td>1000</td>\n",
       "    </tr>\n",
       "    <tr>\n",
       "      <th>A3</th>\n",
       "      <td>30.0</td>\n",
       "      <td>20.0</td>\n",
       "      <td>100</td>\n",
       "      <td>1000</td>\n",
       "    </tr>\n",
       "    <tr>\n",
       "      <th>B1</th>\n",
       "      <td>45.0</td>\n",
       "      <td>5.0</td>\n",
       "      <td>650</td>\n",
       "      <td>1250</td>\n",
       "    </tr>\n",
       "    <tr>\n",
       "      <th>B2</th>\n",
       "      <td>45.0</td>\n",
       "      <td>10.0</td>\n",
       "      <td>300</td>\n",
       "      <td>1250</td>\n",
       "    </tr>\n",
       "    <tr>\n",
       "      <th>B3</th>\n",
       "      <td>45.0</td>\n",
       "      <td>20.0</td>\n",
       "      <td>50</td>\n",
       "      <td>1250</td>\n",
       "    </tr>\n",
       "    <tr>\n",
       "      <th>C1</th>\n",
       "      <td>60.0</td>\n",
       "      <td>5.0</td>\n",
       "      <td>450</td>\n",
       "      <td>1750</td>\n",
       "    </tr>\n",
       "    <tr>\n",
       "      <th>C2</th>\n",
       "      <td>60.0</td>\n",
       "      <td>10.0</td>\n",
       "      <td>100</td>\n",
       "      <td>1750</td>\n",
       "    </tr>\n",
       "    <tr>\n",
       "      <th>C3</th>\n",
       "      <td>60.0</td>\n",
       "      <td>20.0</td>\n",
       "      <td>0</td>\n",
       "      <td>1750</td>\n",
       "    </tr>\n",
       "  </tbody>\n",
       "</table>\n",
       "</div>"
      ],
      "text/plain": [
       "          theta_deg  r_core_km  min_depth  max_depth\n",
       "cut name                                            \n",
       "A1             30.0        5.0        600       1000\n",
       "A2             30.0       10.0        350       1000\n",
       "A3             30.0       20.0        100       1000\n",
       "B1             45.0        5.0        650       1250\n",
       "B2             45.0       10.0        300       1250\n",
       "B3             45.0       20.0         50       1250\n",
       "C1             60.0        5.0        450       1750\n",
       "C2             60.0       10.0        100       1750\n",
       "C3             60.0       20.0          0       1750"
      ]
     },
     "execution_count": 12,
     "metadata": {},
     "output_type": "execute_result"
    }
   ],
   "source": [
    "index = pd.Index([f'{a}{b}' for a, b in itertools.product(['A', 'B', 'C'], range(1, 4))], name = 'cut name')\n",
    "columns = ['theta_deg', 'r_core_km', 'min_depth', 'max_depth']\n",
    "pd.DataFrame(data, index = index, columns = columns)"
   ]
  }
 ],
 "metadata": {
  "kernelspec": {
   "display_name": "Python 3",
   "language": "python",
   "name": "python3"
  },
  "language_info": {
   "codemirror_mode": {
    "name": "ipython",
    "version": 3
   },
   "file_extension": ".py",
   "mimetype": "text/x-python",
   "name": "python",
   "nbconvert_exporter": "python",
   "pygments_lexer": "ipython3",
   "version": "3.11.3"
  },
  "orig_nbformat": 4
 },
 "nbformat": 4,
 "nbformat_minor": 2
}
