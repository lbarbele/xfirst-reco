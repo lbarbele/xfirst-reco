{
 "cells": [
  {
   "cell_type": "code",
   "execution_count": null,
   "metadata": {},
   "outputs": [],
   "source": [
    "import pandas as pd\n",
    "\n",
    "import xfirst"
   ]
  },
  {
   "attachments": {},
   "cell_type": "markdown",
   "metadata": {},
   "source": [
    "### Compute extremes"
   ]
  },
  {
   "cell_type": "code",
   "execution_count": null,
   "metadata": {},
   "outputs": [],
   "source": [
    "limits = []\n",
    "\n",
    "for cut in xfirst.config.cuts:\n",
    "  fits = xfirst.data.load_fits('data', cut = cut, datasets = 'train', drop_bad = True)\n",
    "  fits['stat'] = fits['chi2']/fits['ndf']\n",
    "  limits += [fits.max(), fits.min()]\n",
    "\n",
    "limits = pd.DataFrame(limits)\n",
    "limits = {c: (a, b) for c, a, b in zip(limits.columns, limits.min(), limits.max())}"
   ]
  },
  {
   "attachments": {},
   "cell_type": "markdown",
   "metadata": {},
   "source": [
    "### Draw loop"
   ]
  },
  {
   "cell_type": "code",
   "execution_count": null,
   "metadata": {},
   "outputs": [],
   "source": [
    "for cut in xfirst.config.cuts:\n",
    "  fits = xfirst.data.load_fits('data', cut = cut, datasets = 'train', drop_bad = True)\n",
    "  fig = xfirst.viz.draw_fit_parameters(fits, pallete = 'mako', limits = limits)\n",
    "  fig.suptitle(f'{cut.name}: ${cut.min_depth} \\leq X < {cut.max_depth}$', fontsize = 14, x = 0.03)\n",
    "  fig.tight_layout()"
   ]
  }
 ],
 "metadata": {
  "kernelspec": {
   "display_name": "Python 3",
   "language": "python",
   "name": "python3"
  },
  "language_info": {
   "codemirror_mode": {
    "name": "ipython",
    "version": 3
   },
   "file_extension": ".py",
   "mimetype": "text/x-python",
   "name": "python",
   "nbconvert_exporter": "python",
   "pygments_lexer": "ipython3",
   "version": "3.11.3"
  },
  "orig_nbformat": 4
 },
 "nbformat": 4,
 "nbformat_minor": 2
}
