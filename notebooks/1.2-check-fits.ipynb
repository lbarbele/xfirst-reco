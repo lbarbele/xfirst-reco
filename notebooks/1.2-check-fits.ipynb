{
 "cells": [
  {
   "cell_type": "code",
   "execution_count": null,
   "metadata": {},
   "outputs": [],
   "source": [
    "import matplotlib.pyplot as plt\n",
    "import seaborn as sns\n",
    "\n",
    "import xfirst"
   ]
  },
  {
   "attachments": {},
   "cell_type": "markdown",
   "metadata": {},
   "source": [
    "### Load profiles"
   ]
  },
  {
   "cell_type": "code",
   "execution_count": null,
   "metadata": {},
   "outputs": [],
   "source": [
    "all_profiles = xfirst.data.load_profiles('data')"
   ]
  },
  {
   "attachments": {},
   "cell_type": "markdown",
   "metadata": {},
   "source": [
    "### Helper function to process a single cut"
   ]
  },
  {
   "cell_type": "code",
   "execution_count": null,
   "metadata": {},
   "outputs": [],
   "source": [
    "def draw_cut(cut, nsamples = 2):\n",
    "  fcn = xfirst.profile_functions.usp()\n",
    "\n",
    "  # load parameters and transform into a dictionary\n",
    "  params = xfirst.data.load_fits(datadir = 'data', cut = cut, columns = fcn.parameter_names)\n",
    "\n",
    "  # create figure\n",
    "  nds = len(xfirst.config.datasets)\n",
    "  npt = len(xfirst.config.particles)\n",
    "  fig, axes = plt.subplots(nsamples*nds, npt, sharex = True, sharey = True, figsize = (16, 5*nsamples))\n",
    "  fig.suptitle(f'cut {cut.name}: ${cut.min_depth} \\leq X < {cut.max_depth}$', fontsize = 16)\n",
    "\n",
    "  # loop over datasets\n",
    "  for ids, d in enumerate(xfirst.config.datasets):\n",
    "    # loop over primary particles (columns)\n",
    "    for icol, p in enumerate(xfirst.config.particles):\n",
    "      profiles = all_profiles[d].loc[p]\n",
    "      for irow, idx in enumerate(profiles.sample(nsamples).index):\n",
    "        # max value of the simulated profile\n",
    "        mx = profiles.loc[idx].max()\n",
    "        # the simulated profile\n",
    "        xp = all_profiles['depths']\n",
    "        yp = profiles.loc[idx]/mx\n",
    "        # the fitted function\n",
    "        xf = xp[(xp > cut.min_depth) & (xp < cut.max_depth)]\n",
    "        yf = fcn(xf, *params[d].loc[(p, idx)])/mx\n",
    "        # draw both\n",
    "        ax = axes[nsamples*ids + irow, icol] \n",
    "        cl = sns.color_palette()[icol]\n",
    "        ax.fill_between(xp, yp, color = cl, alpha = 0.4, lw = 0)\n",
    "        ax.plot(xf, yf, '-', color = cl, lw = 1.5, alpha = 0.8)\n",
    "        ax.set_ylim(0, None)\n",
    "        # add information\n",
    "        if nsamples*ids + irow == nsamples*nds - 1:\n",
    "          ax.set_xlabel('Slant depth [g cm$^{-2}$]')\n",
    "        if irow == 0 and ids == 0:\n",
    "          ax.set_title(p)\n",
    "        if icol == 0:\n",
    "          ax.set_ylabel('$\\mathrm{d}E/\\mathrm{d}X$ [a.u.]')\n",
    "\n",
    "  fig.tight_layout()"
   ]
  },
  {
   "attachments": {},
   "cell_type": "markdown",
   "metadata": {},
   "source": [
    "### Draw every cut"
   ]
  },
  {
   "cell_type": "code",
   "execution_count": null,
   "metadata": {},
   "outputs": [],
   "source": [
    "for c in xfirst.config.cuts:\n",
    "  draw_cut(c)"
   ]
  }
 ],
 "metadata": {
  "kernelspec": {
   "display_name": "Python 3",
   "language": "python",
   "name": "python3"
  },
  "language_info": {
   "codemirror_mode": {
    "name": "ipython",
    "version": 3
   },
   "file_extension": ".py",
   "mimetype": "text/x-python",
   "name": "python",
   "nbconvert_exporter": "python",
   "pygments_lexer": "ipython3",
   "version": "3.11.3"
  },
  "orig_nbformat": 4
 },
 "nbformat": 4,
 "nbformat_minor": 2
}
